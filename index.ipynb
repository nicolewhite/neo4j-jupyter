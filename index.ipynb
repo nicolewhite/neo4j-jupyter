{
 "cells": [
  {
   "cell_type": "markdown",
   "metadata": {},
   "source": [
    "# Graphs with Python and Neo4j by @_nicolemargaret\n",
    "\n",
    "## Agenda\n",
    "\n",
    "### Introduction to Neo4j (5 minutes)\n",
    "\n",
    "* What is a graph?\n",
    "* What is Neo4j?\n",
    "* Data Modeling\n",
    "\n",
    "### [Hello World](hello-world.html) (10 minutes)\n",
    "\n",
    "* `py2neo`\n",
    "* `ipython-cypher`\n",
    "  - `pandas`\n",
    "  - `NetworkX`\n",
    "* `igraph`\n",
    "* `jgraph`\n",
    "\n",
    "### [Panama Papers](panama.html) (15 minutes)\n",
    "\n",
    "* Visualizing the Model\n",
    "* Plotting\n",
    "* Graph Algorithms\n",
    "* Graph Visualization"
   ]
  }
 ],
 "metadata": {
  "kernelspec": {
   "display_name": "Python 3",
   "language": "python",
   "name": "python3"
  },
  "language_info": {
   "codemirror_mode": {
    "name": "ipython",
    "version": 3
   },
   "file_extension": ".py",
   "mimetype": "text/x-python",
   "name": "python",
   "nbconvert_exporter": "python",
   "pygments_lexer": "ipython3",
   "version": "3.7.1"
  },
  "varInspector": {
   "cols": {
    "lenName": 16,
    "lenType": 16,
    "lenVar": 40
   },
   "kernels_config": {
    "python": {
     "delete_cmd_postfix": "",
     "delete_cmd_prefix": "del ",
     "library": "var_list.py",
     "varRefreshCmd": "print(var_dic_list())"
    },
    "r": {
     "delete_cmd_postfix": ") ",
     "delete_cmd_prefix": "rm(",
     "library": "var_list.r",
     "varRefreshCmd": "cat(var_dic_list()) "
    }
   },
   "types_to_exclude": [
    "module",
    "function",
    "builtin_function_or_method",
    "instance",
    "_Feature"
   ],
   "window_display": false
  }
 },
 "nbformat": 4,
 "nbformat_minor": 1
}
